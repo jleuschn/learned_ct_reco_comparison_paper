{
 "cells": [
  {
   "cell_type": "code",
   "execution_count": 1,
   "metadata": {},
   "outputs": [],
   "source": [
    "import numpy as np\n",
    "import matplotlib.pyplot as plt\n",
    "import sys, os, torch\n",
    "import torch.nn as nn\n",
    "import torch.optim as optim\n",
    "import itertools\n",
    "from collections import defaultdict \n",
    "\n",
    "from tqdm import tqdm\n",
    "from ista_unet import *\n",
    "from ista_unet.models import ista_unet\n",
    "from ista_unet.evaluate import *\n",
    "from ista_unet.load_fastmri_dataset import get_dataloaders_fastmri\n",
    "from ista_unet.utils import crop_center_2d\n",
    "from ista_unet import model_save_dir, dataset_dir\n",
    "from pathlib import Path\n",
    "\n",
    "from dival.util.plot import plot_images\n",
    "import dival\n",
    "import torch.multiprocessing\n",
    "from fastmri import save_reconstructions\n",
    "\n",
    "\n",
    "import h5py\n",
    "from fastmri.data import transforms\n",
    "from runstats import Statistics\n",
    "from skimage.metrics import structural_similarity, peak_signal_noise_ratio\n",
    "\n",
    "\n",
    "torch.multiprocessing.set_sharing_strategy('file_system')\n",
    "\n",
    "device = torch.device(\"cuda:0\" if torch.cuda.is_available() else \"cpu\")"
   ]
  },
  {
   "cell_type": "code",
   "execution_count": 2,
   "metadata": {},
   "outputs": [],
   "source": [
    "guid = '53df389a-8054-402b-83f7-e230e8a22670'\n",
    "    \n",
    "model, config_dict = load_ista_unet_model(guid = guid, \n",
    "                             dataset = 'fastmri', \n",
    "                             return_config_dict = True)\n",
    "\n",
    "model.to(device);"
   ]
  },
  {
   "cell_type": "code",
   "execution_count": 3,
   "metadata": {},
   "outputs": [],
   "source": [
    "loaders_bs1 = get_dataloaders_fastmri(batch_size= 1, include_test = True)\n"
   ]
  },
  {
   "cell_type": "code",
   "execution_count": 4,
   "metadata": {},
   "outputs": [],
   "source": [
    "def save_prediction_fastmri(model, loader, phase):\n",
    "    outputs = defaultdict(list)\n",
    "    with torch.no_grad():\n",
    "        with tqdm(loader[phase]) as pbar:\n",
    "            for obs, gt,  mean, std, fname, slice_num, max_value  in pbar:\n",
    "                fname = fname[0]\n",
    "                obs = obs.unsqueeze(1)\n",
    "                gt = gt.unsqueeze(1)\n",
    "\n",
    "                mean = mean.unsqueeze(1).unsqueeze(2)\n",
    "                std = std.unsqueeze(1).unsqueeze(2)\n",
    "\n",
    "                reco = model(obs.to(device)).cpu().clamp(-6, 6)\n",
    "\n",
    "                # undo the instance-normalized the output and target\n",
    "                trans_obs = (obs * std + mean).detach().numpy().squeeze()\n",
    "                trans_reco = (reco * std + mean).detach().numpy().squeeze()\n",
    "                trans_target = (gt * std + mean).detach().numpy().squeeze()\n",
    "\n",
    "                # collect slices into the volume it belongs to\n",
    "                outputs[fname].append((slice_num.numpy(), trans_reco ))\n",
    "\n",
    "    for fname in outputs:\n",
    "        outputs[fname] = np.stack([out for _, out in sorted(outputs[fname])])\n",
    "    \n",
    "    save_to_path = Path(config_dict['saved_path'] ) / (phase + '_reconstructions') \n",
    "    save_reconstructions(outputs, save_to_path )    \n",
    "    \n",
    "    print('saved to ', str(save_to_path) ) \n",
    "    return str(save_to_path)\n",
    "\n",
    "def nmse(gt, pred):\n",
    "    \"\"\" Compute Normalized Mean Squared Error (NMSE) \"\"\"\n",
    "    return np.linalg.norm(gt - pred) ** 2 / np.linalg.norm(gt) ** 2\n",
    "\n",
    "\n",
    "def psnr(gt, pred):\n",
    "    \"\"\" Compute Peak Signal to Noise Ratio metric (PSNR) \"\"\"\n",
    "    return peak_signal_noise_ratio(gt, pred, data_range=gt.max())\n",
    "\n",
    "\n",
    "def ssim(gt, pred):\n",
    "    \"\"\" Compute Structural Similarity Index Metric (SSIM). \"\"\"\n",
    "    return structural_similarity(\n",
    "        gt.transpose(1, 2, 0), pred.transpose(1, 2, 0), multichannel=True, data_range=gt.max()\n",
    "    )\n",
    "\n",
    "\n",
    "METRIC_FUNCS = dict(\n",
    "    NMSE=nmse,\n",
    "    PSNR=psnr,\n",
    "    SSIM=ssim)\n",
    "\n",
    "class Metrics:\n",
    "    \"\"\"\n",
    "    Maintains running statistics for a given collection of metrics.\n",
    "    \"\"\"\n",
    "\n",
    "    def __init__(self, metric_funcs):\n",
    "        \"\"\"\n",
    "        Args:\n",
    "            metric_funcs (dict): A dict where the keys are metric names and the\n",
    "                values are Python functions for evaluating that metric.\n",
    "        \"\"\"\n",
    "        self.metrics = {metric: Statistics() for metric in metric_funcs}\n",
    "\n",
    "    def push(self, target, recons):\n",
    "        for metric, func in METRIC_FUNCS.items():\n",
    "            self.metrics[metric].push(func(target, recons))\n",
    "\n",
    "    def means(self):\n",
    "        return {metric: stat.mean() for metric, stat in self.metrics.items()}\n",
    "\n",
    "    def stddevs(self):\n",
    "        return {metric: stat.stddev() for metric, stat in self.metrics.items()}\n",
    "\n",
    "    def __repr__(self):\n",
    "        means = self.means()\n",
    "        stddevs = self.stddevs()\n",
    "        metric_names = sorted(list(means))\n",
    "        return \" \".join(\n",
    "            f\"{name} = {means[name]:.4g} +/- {2 * stddevs[name]:.4g}\"\n",
    "            for name in metric_names )\n",
    "    \n",
    "def evaluate_saved_fastmri(target_path, predictions_path, acquisition, challenge = 'singlecoil', acceleration = None):\n",
    "    \n",
    "    target_path = Path( target_path )\n",
    "    predictions_path = Path( predictions_path )\n",
    "    \n",
    "    recons_key = 'reconstruction_rss' if challenge == 'multicoil' else 'reconstruction_esc'\n",
    "\n",
    "    METRIC_FUNCS = dict(\n",
    "    NMSE=nmse,\n",
    "    PSNR=psnr, \n",
    "    SSIM=ssim)\n",
    "\n",
    "    metrics = Metrics(METRIC_FUNCS)\n",
    "    \n",
    "    for tgt_file in target_path.iterdir():\n",
    "        with h5py.File(tgt_file, 'r') as target, h5py.File(\n",
    "          predictions_path / tgt_file.name, 'r') as recons:\n",
    "            if acquisition and acquisition != target.attrs['acquisition']:\n",
    "                continue\n",
    "\n",
    "            if acceleration and target.attrs['acceleration'] != acceleration:\n",
    "                continue\n",
    "\n",
    "            target = target[recons_key][()]\n",
    "            recons = recons['reconstruction'][()]\n",
    "            target = transforms.center_crop(target, (target.shape[-1], target.shape[-1]))\n",
    "            recons = transforms.center_crop(recons, (target.shape[-1], target.shape[-1]))\n",
    "            metrics.push(target, recons)\n",
    "    return metrics"
   ]
  },
  {
   "cell_type": "code",
   "execution_count": 5,
   "metadata": {
    "scrolled": true
   },
   "outputs": [
    {
     "name": "stderr",
     "output_type": "stream",
     "text": [
      "100%|██████████| 7135/7135 [09:41<00:00, 12.27it/s]\n"
     ]
    },
    {
     "name": "stdout",
     "output_type": "stream",
     "text": [
      "saved to  /home/liu0003/Desktop/projects/ista_unet/saved_model/ista/fastmri/53df389a-8054-402b-83f7-e230e8a22670/validation_reconstructions\n"
     ]
    }
   ],
   "source": [
    "saved_to_path = save_prediction_fastmri(model, loader = loaders_bs1, phase = 'validation')"
   ]
  },
  {
   "cell_type": "code",
   "execution_count": 6,
   "metadata": {},
   "outputs": [
    {
     "name": "stderr",
     "output_type": "stream",
     "text": [
      "100%|██████████| 3903/3903 [05:21<00:00, 12.13it/s]\n"
     ]
    },
    {
     "name": "stdout",
     "output_type": "stream",
     "text": [
      "saved to  /home/liu0003/Desktop/projects/ista_unet/saved_model/ista/fastmri/53df389a-8054-402b-83f7-e230e8a22670/test_reconstructions\n"
     ]
    }
   ],
   "source": [
    "saved_to_path = save_prediction_fastmri(model, loader = loaders_bs1, phase = 'test')"
   ]
  },
  {
   "cell_type": "code",
   "execution_count": 7,
   "metadata": {},
   "outputs": [
    {
     "data": {
      "text/plain": [
       "NMSE = 0.01572 +/- 0.01537 PSNR = 33.91 +/- 5.267 SSIM = 0.8115 +/- 0.1685"
      ]
     },
     "execution_count": 7,
     "metadata": {},
     "output_type": "execute_result"
    }
   ],
   "source": [
    "evaluate_saved_fastmri(target_path = os.path.join(dataset_dir, 'fastmri/knee/singlecoil_val'), \n",
    "         predictions_path = os.path.join( config_dict['saved_path'], 'validation_reconstructions' ), \n",
    "         acquisition = 'CORPD_FBK')"
   ]
  },
  {
   "cell_type": "code",
   "execution_count": 10,
   "metadata": {},
   "outputs": [
    {
     "data": {
      "text/plain": [
       "NMSE = 0.05269 +/- 0.04528 PSNR = 29.94 +/- 5.395 SSIM = 0.6321 +/- 0.2127"
      ]
     },
     "execution_count": 10,
     "metadata": {},
     "output_type": "execute_result"
    }
   ],
   "source": [
    "evaluate_saved_fastmri(target_path = os.path.join(dataset_dir, 'fastmri/knee/singlecoil_val'), \n",
    "         predictions_path = os.path.join( config_dict['saved_path'], 'validation_reconstructions' ), \n",
    "         acquisition = 'CORPDFS_FBK')"
   ]
  },
  {
   "cell_type": "code",
   "execution_count": null,
   "metadata": {},
   "outputs": [],
   "source": []
  }
 ],
 "metadata": {
  "kernelspec": {
   "display_name": "Python 3",
   "language": "python",
   "name": "python3"
  },
  "language_info": {
   "codemirror_mode": {
    "name": "ipython",
    "version": 3
   },
   "file_extension": ".py",
   "mimetype": "text/x-python",
   "name": "python",
   "nbconvert_exporter": "python",
   "pygments_lexer": "ipython3",
   "version": "3.8.5"
  }
 },
 "nbformat": 4,
 "nbformat_minor": 4
}
